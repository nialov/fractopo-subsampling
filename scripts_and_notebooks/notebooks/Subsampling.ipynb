{
 "cells": [
  {
   "cell_type": "code",
   "execution_count": 1,
   "id": "taken-spray",
   "metadata": {},
   "outputs": [],
   "source": [
    "import pandas as pd\n",
    "from pathlib import Path\n",
    "import seaborn as sns\n",
    "from pprint import pprint\n",
    "import random\n",
    "import numpy as np\n",
    "from itertools import combinations\n",
    "import matplotlib.pyplot as plt"
   ]
  },
  {
   "cell_type": "code",
   "execution_count": 2,
   "id": "tested-navigator",
   "metadata": {},
   "outputs": [],
   "source": [
    "import scipy\n",
    "import scipy.stats as stats"
   ]
  },
  {
   "cell_type": "code",
   "execution_count": 3,
   "id": "headed-percentage",
   "metadata": {},
   "outputs": [
    {
     "name": "stderr",
     "output_type": "stream",
     "text": [
      "/home/nialov/.local/share/virtualenvs/trace_repo-280iuCPs/lib/python3.8/site-packages/geopandas/_compat.py:106: UserWarning: The Shapely GEOS version (3.8.0-CAPI-1.13.1 ) is incompatible with the GEOS version PyGEOS was compiled with (3.8.1-CAPI-1.13.3). Conversions between both will be slow.\n",
      "  warnings.warn(\n"
     ]
    }
   ],
   "source": [
    "import fractopo_subsampling.utils as utils\n",
    "import fractopo_subsampling.plotting_utils as plotting_utils\n",
    "from fractopo_subsampling.schema import describe_df_schema\n",
    "import subsampling_config"
   ]
  },
  {
   "cell_type": "markdown",
   "id": "every-logic",
   "metadata": {},
   "source": [
    "# Notebook Parametrization\n",
    "\n",
    "Collection of some configurations that control the subsampling. Not exhaustive."
   ]
  },
  {
   "cell_type": "code",
   "execution_count": 4,
   "id": "interim-impossible",
   "metadata": {
    "tags": [
     "parameters"
    ]
   },
   "outputs": [],
   "source": [
    "radius_constraint = 1.0\n",
    "min_radius = 0.0\n",
    "max_radius = 26.0\n",
    "# Step 1 subsamplings have been collected into a single csv with gather-subsampling invoke cmd\n",
    "# Path to that csv:\n",
    "data_path_str = \"../results/subsampling/collected/Subsampling_results_12042021.csv\"\n",
    "iterations = 10000\n",
    "save = True"
   ]
  },
  {
   "cell_type": "markdown",
   "id": "republican-macro",
   "metadata": {},
   "source": [
    "# Read data"
   ]
  },
  {
   "cell_type": "code",
   "execution_count": 5,
   "id": "upper-candy",
   "metadata": {},
   "outputs": [],
   "source": [
    "data_path = Path(data_path_str)\n",
    "save_path = subsampling_config.results_path\n",
    "subsampling_path = subsampling_config.subsampling_path\n",
    "\n",
    "assert all(path.exists() for path in (data_path, save_path, subsampling_path))\n",
    "\n",
    "full_df = pd.read_csv(data_path, sep=\";\", index_col=[0])\n",
    "# Validate\n",
    "full_df = describe_df_schema.validate(full_df)"
   ]
  },
  {
   "cell_type": "markdown",
   "id": "flush-assist",
   "metadata": {},
   "source": [
    "Reference values from base circle analysis:"
   ]
  },
  {
   "cell_type": "code",
   "execution_count": 6,
   "id": "viral-kelly",
   "metadata": {},
   "outputs": [],
   "source": [
    "reference_values = pd.read_csv(subsampling_config.base_circle_reference_value_csv_path)\n",
    "reference_value_dict = {\n",
    "    name: value\n",
    "    for name, value in zip(reference_values[\"Parameter\"], reference_values[\"Value\"])\n",
    "}"
   ]
  },
  {
   "cell_type": "code",
   "execution_count": 7,
   "id": "subsequent-mixer",
   "metadata": {},
   "outputs": [],
   "source": [
    "reference_value_dict[\"trace power_law exponent\"] = reference_value_dict[\n",
    "    \"Trace Power-law Exponent\"\n",
    "]\n",
    "reference_value_dict[\"branch power_law exponent\"] = reference_value_dict[\n",
    "    \"Branch Power-law Exponent\"\n",
    "]"
   ]
  },
  {
   "cell_type": "code",
   "execution_count": 8,
   "id": "structural-audience",
   "metadata": {},
   "outputs": [
    {
     "data": {
      "text/plain": [
       "{'Connections per Branch': 1.4435,\n",
       " 'Trace Power-law Exponent': -1.7546,\n",
       " 'Branch Power-law Exponent': -2.9051,\n",
       " 'Fracture Intensity P21': 2.0089,\n",
       " 'trace power_law exponent': -1.7546,\n",
       " 'branch power_law exponent': -2.9051}"
      ]
     },
     "execution_count": 8,
     "metadata": {},
     "output_type": "execute_result"
    }
   ],
   "source": [
    "reference_value_dict"
   ]
  },
  {
   "cell_type": "markdown",
   "id": "saving-valuation",
   "metadata": {},
   "source": [
    "# Describe data"
   ]
  },
  {
   "cell_type": "code",
   "execution_count": 9,
   "id": "wrong-factory",
   "metadata": {},
   "outputs": [
    {
     "data": {
      "text/plain": [
       "1093"
      ]
     },
     "execution_count": 9,
     "metadata": {},
     "output_type": "execute_result"
    }
   ],
   "source": [
    "full_df.shape[0]"
   ]
  },
  {
   "cell_type": "code",
   "execution_count": 10,
   "id": "unauthorized-vessel",
   "metadata": {},
   "outputs": [
    {
     "data": {
      "text/html": [
       "<div>\n",
       "<style scoped>\n",
       "    .dataframe tbody tr th:only-of-type {\n",
       "        vertical-align: middle;\n",
       "    }\n",
       "\n",
       "    .dataframe tbody tr th {\n",
       "        vertical-align: top;\n",
       "    }\n",
       "\n",
       "    .dataframe thead th {\n",
       "        text-align: right;\n",
       "    }\n",
       "</style>\n",
       "<table border=\"1\" class=\"dataframe\">\n",
       "  <thead>\n",
       "    <tr style=\"text-align: right;\">\n",
       "      <th></th>\n",
       "      <th>X</th>\n",
       "      <th>Y</th>\n",
       "      <th>I</th>\n",
       "      <th>E</th>\n",
       "      <th>C - C</th>\n",
       "      <th>C - I</th>\n",
       "      <th>I - I</th>\n",
       "      <th>C - E</th>\n",
       "      <th>I - E</th>\n",
       "      <th>E - E</th>\n",
       "      <th>...</th>\n",
       "      <th>Trace Boundary 0 Intersect Count</th>\n",
       "      <th>Trace Boundary 1 Intersect Count</th>\n",
       "      <th>Trace Boundary 2 Intersect Count</th>\n",
       "      <th>Branch Boundary 0 Intersect Count</th>\n",
       "      <th>Branch Boundary 1 Intersect Count</th>\n",
       "      <th>radius</th>\n",
       "      <th>area</th>\n",
       "      <th>coverage</th>\n",
       "      <th>relative coverage</th>\n",
       "      <th>Branch Boundary 2 Intersect Count</th>\n",
       "    </tr>\n",
       "  </thead>\n",
       "  <tbody>\n",
       "    <tr>\n",
       "      <th>count</th>\n",
       "      <td>1093.000000</td>\n",
       "      <td>1093.000000</td>\n",
       "      <td>1093.000000</td>\n",
       "      <td>1093.000000</td>\n",
       "      <td>1093.000000</td>\n",
       "      <td>1093.000000</td>\n",
       "      <td>1093.000000</td>\n",
       "      <td>1093.000000</td>\n",
       "      <td>1093.000000</td>\n",
       "      <td>1093.000000</td>\n",
       "      <td>...</td>\n",
       "      <td>1082.000000</td>\n",
       "      <td>1085.000000</td>\n",
       "      <td>712.000000</td>\n",
       "      <td>1082.000000</td>\n",
       "      <td>1085.000000</td>\n",
       "      <td>1093.000000</td>\n",
       "      <td>1093.000000</td>\n",
       "      <td>1093.000000</td>\n",
       "      <td>1093.000000</td>\n",
       "      <td>303.000000</td>\n",
       "    </tr>\n",
       "    <tr>\n",
       "      <th>mean</th>\n",
       "      <td>183.762123</td>\n",
       "      <td>641.052150</td>\n",
       "      <td>970.334858</td>\n",
       "      <td>75.064959</td>\n",
       "      <td>996.810613</td>\n",
       "      <td>611.281793</td>\n",
       "      <td>168.995425</td>\n",
       "      <td>53.283623</td>\n",
       "      <td>21.129003</td>\n",
       "      <td>0.362306</td>\n",
       "      <td>...</td>\n",
       "      <td>777.020333</td>\n",
       "      <td>73.434101</td>\n",
       "      <td>1.691011</td>\n",
       "      <td>1795.154344</td>\n",
       "      <td>74.989862</td>\n",
       "      <td>13.665973</td>\n",
       "      <td>690.483275</td>\n",
       "      <td>36.267154</td>\n",
       "      <td>0.045829</td>\n",
       "      <td>1.306931</td>\n",
       "    </tr>\n",
       "    <tr>\n",
       "      <th>std</th>\n",
       "      <td>303.485829</td>\n",
       "      <td>953.958438</td>\n",
       "      <td>1350.112618</td>\n",
       "      <td>59.027531</td>\n",
       "      <td>1572.948087</td>\n",
       "      <td>891.233385</td>\n",
       "      <td>225.958826</td>\n",
       "      <td>44.820032</td>\n",
       "      <td>15.415871</td>\n",
       "      <td>0.667486</td>\n",
       "      <td>...</td>\n",
       "      <td>1120.482296</td>\n",
       "      <td>58.402934</td>\n",
       "      <td>0.874729</td>\n",
       "      <td>2671.338934</td>\n",
       "      <td>58.527037</td>\n",
       "      <td>5.749703</td>\n",
       "      <td>533.302798</td>\n",
       "      <td>42.643795</td>\n",
       "      <td>0.041106</td>\n",
       "      <td>0.610220</td>\n",
       "    </tr>\n",
       "    <tr>\n",
       "      <th>min</th>\n",
       "      <td>0.000000</td>\n",
       "      <td>0.000000</td>\n",
       "      <td>0.000000</td>\n",
       "      <td>0.000000</td>\n",
       "      <td>0.000000</td>\n",
       "      <td>0.000000</td>\n",
       "      <td>0.000000</td>\n",
       "      <td>0.000000</td>\n",
       "      <td>0.000000</td>\n",
       "      <td>0.000000</td>\n",
       "      <td>...</td>\n",
       "      <td>1.000000</td>\n",
       "      <td>1.000000</td>\n",
       "      <td>1.000000</td>\n",
       "      <td>1.000000</td>\n",
       "      <td>1.000000</td>\n",
       "      <td>5.015920</td>\n",
       "      <td>79.040745</td>\n",
       "      <td>0.000000</td>\n",
       "      <td>0.000000</td>\n",
       "      <td>1.000000</td>\n",
       "    </tr>\n",
       "    <tr>\n",
       "      <th>25%</th>\n",
       "      <td>24.000000</td>\n",
       "      <td>95.000000</td>\n",
       "      <td>189.000000</td>\n",
       "      <td>30.000000</td>\n",
       "      <td>120.000000</td>\n",
       "      <td>106.000000</td>\n",
       "      <td>27.000000</td>\n",
       "      <td>19.000000</td>\n",
       "      <td>10.000000</td>\n",
       "      <td>0.000000</td>\n",
       "      <td>...</td>\n",
       "      <td>134.250000</td>\n",
       "      <td>29.000000</td>\n",
       "      <td>1.000000</td>\n",
       "      <td>283.000000</td>\n",
       "      <td>30.000000</td>\n",
       "      <td>8.537542</td>\n",
       "      <td>228.989523</td>\n",
       "      <td>3.980837</td>\n",
       "      <td>0.014651</td>\n",
       "      <td>1.000000</td>\n",
       "    </tr>\n",
       "    <tr>\n",
       "      <th>50%</th>\n",
       "      <td>69.000000</td>\n",
       "      <td>276.000000</td>\n",
       "      <td>455.000000</td>\n",
       "      <td>60.000000</td>\n",
       "      <td>388.000000</td>\n",
       "      <td>270.000000</td>\n",
       "      <td>86.000000</td>\n",
       "      <td>41.000000</td>\n",
       "      <td>17.000000</td>\n",
       "      <td>0.000000</td>\n",
       "      <td>...</td>\n",
       "      <td>335.000000</td>\n",
       "      <td>59.000000</td>\n",
       "      <td>1.000000</td>\n",
       "      <td>749.500000</td>\n",
       "      <td>60.000000</td>\n",
       "      <td>13.106262</td>\n",
       "      <td>539.644292</td>\n",
       "      <td>21.045292</td>\n",
       "      <td>0.039581</td>\n",
       "      <td>1.000000</td>\n",
       "    </tr>\n",
       "    <tr>\n",
       "      <th>75%</th>\n",
       "      <td>216.000000</td>\n",
       "      <td>829.000000</td>\n",
       "      <td>1246.000000</td>\n",
       "      <td>108.000000</td>\n",
       "      <td>1289.000000</td>\n",
       "      <td>781.000000</td>\n",
       "      <td>227.000000</td>\n",
       "      <td>78.000000</td>\n",
       "      <td>29.000000</td>\n",
       "      <td>1.000000</td>\n",
       "      <td>...</td>\n",
       "      <td>1006.500000</td>\n",
       "      <td>106.000000</td>\n",
       "      <td>2.000000</td>\n",
       "      <td>2291.250000</td>\n",
       "      <td>107.000000</td>\n",
       "      <td>18.263757</td>\n",
       "      <td>1047.924731</td>\n",
       "      <td>54.329016</td>\n",
       "      <td>0.061765</td>\n",
       "      <td>1.000000</td>\n",
       "    </tr>\n",
       "    <tr>\n",
       "      <th>max</th>\n",
       "      <td>2276.000000</td>\n",
       "      <td>6515.000000</td>\n",
       "      <td>10185.000000</td>\n",
       "      <td>343.000000</td>\n",
       "      <td>10937.000000</td>\n",
       "      <td>6747.000000</td>\n",
       "      <td>1674.000000</td>\n",
       "      <td>257.000000</td>\n",
       "      <td>91.000000</td>\n",
       "      <td>4.000000</td>\n",
       "      <td>...</td>\n",
       "      <td>8201.000000</td>\n",
       "      <td>341.000000</td>\n",
       "      <td>6.000000</td>\n",
       "      <td>19269.000000</td>\n",
       "      <td>341.000000</td>\n",
       "      <td>24.930954</td>\n",
       "      <td>1952.664635</td>\n",
       "      <td>200.009860</td>\n",
       "      <td>0.389207</td>\n",
       "      <td>4.000000</td>\n",
       "    </tr>\n",
       "  </tbody>\n",
       "</table>\n",
       "<p>8 rows × 88 columns</p>\n",
       "</div>"
      ],
      "text/plain": [
       "                 X            Y             I            E         C - C  \\\n",
       "count  1093.000000  1093.000000   1093.000000  1093.000000   1093.000000   \n",
       "mean    183.762123   641.052150    970.334858    75.064959    996.810613   \n",
       "std     303.485829   953.958438   1350.112618    59.027531   1572.948087   \n",
       "min       0.000000     0.000000      0.000000     0.000000      0.000000   \n",
       "25%      24.000000    95.000000    189.000000    30.000000    120.000000   \n",
       "50%      69.000000   276.000000    455.000000    60.000000    388.000000   \n",
       "75%     216.000000   829.000000   1246.000000   108.000000   1289.000000   \n",
       "max    2276.000000  6515.000000  10185.000000   343.000000  10937.000000   \n",
       "\n",
       "             C - I        I - I        C - E        I - E        E - E  ...  \\\n",
       "count  1093.000000  1093.000000  1093.000000  1093.000000  1093.000000  ...   \n",
       "mean    611.281793   168.995425    53.283623    21.129003     0.362306  ...   \n",
       "std     891.233385   225.958826    44.820032    15.415871     0.667486  ...   \n",
       "min       0.000000     0.000000     0.000000     0.000000     0.000000  ...   \n",
       "25%     106.000000    27.000000    19.000000    10.000000     0.000000  ...   \n",
       "50%     270.000000    86.000000    41.000000    17.000000     0.000000  ...   \n",
       "75%     781.000000   227.000000    78.000000    29.000000     1.000000  ...   \n",
       "max    6747.000000  1674.000000   257.000000    91.000000     4.000000  ...   \n",
       "\n",
       "       Trace Boundary 0 Intersect Count  Trace Boundary 1 Intersect Count  \\\n",
       "count                       1082.000000                       1085.000000   \n",
       "mean                         777.020333                         73.434101   \n",
       "std                         1120.482296                         58.402934   \n",
       "min                            1.000000                          1.000000   \n",
       "25%                          134.250000                         29.000000   \n",
       "50%                          335.000000                         59.000000   \n",
       "75%                         1006.500000                        106.000000   \n",
       "max                         8201.000000                        341.000000   \n",
       "\n",
       "       Trace Boundary 2 Intersect Count  Branch Boundary 0 Intersect Count  \\\n",
       "count                        712.000000                        1082.000000   \n",
       "mean                           1.691011                        1795.154344   \n",
       "std                            0.874729                        2671.338934   \n",
       "min                            1.000000                           1.000000   \n",
       "25%                            1.000000                         283.000000   \n",
       "50%                            1.000000                         749.500000   \n",
       "75%                            2.000000                        2291.250000   \n",
       "max                            6.000000                       19269.000000   \n",
       "\n",
       "       Branch Boundary 1 Intersect Count       radius         area  \\\n",
       "count                        1085.000000  1093.000000  1093.000000   \n",
       "mean                           74.989862    13.665973   690.483275   \n",
       "std                            58.527037     5.749703   533.302798   \n",
       "min                             1.000000     5.015920    79.040745   \n",
       "25%                            30.000000     8.537542   228.989523   \n",
       "50%                            60.000000    13.106262   539.644292   \n",
       "75%                           107.000000    18.263757  1047.924731   \n",
       "max                           341.000000    24.930954  1952.664635   \n",
       "\n",
       "          coverage  relative coverage  Branch Boundary 2 Intersect Count  \n",
       "count  1093.000000        1093.000000                         303.000000  \n",
       "mean     36.267154           0.045829                           1.306931  \n",
       "std      42.643795           0.041106                           0.610220  \n",
       "min       0.000000           0.000000                           1.000000  \n",
       "25%       3.980837           0.014651                           1.000000  \n",
       "50%      21.045292           0.039581                           1.000000  \n",
       "75%      54.329016           0.061765                           1.000000  \n",
       "max     200.009860           0.389207                           4.000000  \n",
       "\n",
       "[8 rows x 88 columns]"
      ]
     },
     "execution_count": 10,
     "metadata": {},
     "output_type": "execute_result"
    }
   ],
   "source": [
    "full_df.describe()"
   ]
  },
  {
   "cell_type": "code",
   "execution_count": 11,
   "id": "demographic-garbage",
   "metadata": {},
   "outputs": [
    {
     "data": {
      "text/plain": [
       "4"
      ]
     },
     "execution_count": 11,
     "metadata": {},
     "output_type": "execute_result"
    }
   ],
   "source": [
    "sum(full_df[\"Fracture Intensity P21\"] == 0)"
   ]
  },
  {
   "cell_type": "markdown",
   "id": "patient-providence",
   "metadata": {},
   "source": [
    "# Data preprocessing\n",
    "\n",
    "Full dataset contains more simulation data in a spatially extensive area. The dataset is filtered to a more concentrated area spanning roughly 4.5 km."
   ]
  },
  {
   "cell_type": "code",
   "execution_count": 12,
   "id": "japanese-technician",
   "metadata": {},
   "outputs": [
    {
     "data": {
      "text/plain": [
       "{'Getaberget_20m_4_3_area': 50,\n",
       " 'Getaberget_20m_9_2_area': 50,\n",
       " 'Getaberget_20m_8_3_area': 50,\n",
       " 'Getaberget_20m_7_1_area': 50,\n",
       " 'Getaberget_20m_7_2_area': 20,\n",
       " 'Getaberget_20m_5_1_area': 50,\n",
       " 'Getaberget_20m_2_1_area': 40,\n",
       " 'Getaberget_20m_2_2_area': 50,\n",
       " 'Getaberget_20m_1_1_area': 50,\n",
       " 'Getaberget_20m_1_2_area': 40,\n",
       " 'Getaberget_20m_1_3_area': 20,\n",
       " 'Getaberget_20m_1_4_area': 50,\n",
       " 'Havsvidden_20m_1_area': 50}"
      ]
     },
     "execution_count": 12,
     "metadata": {},
     "output_type": "execute_result"
    }
   ],
   "source": [
    "# Keys in the dict are the target area names that we are interested in.\n",
    "subsampling_config.circle_names_with_diameter"
   ]
  },
  {
   "cell_type": "code",
   "execution_count": 13,
   "id": "running-desperate",
   "metadata": {},
   "outputs": [
    {
     "data": {
      "text/plain": [
       "20"
      ]
     },
     "execution_count": 13,
     "metadata": {},
     "output_type": "execute_result"
    }
   ],
   "source": [
    "# All circles\n",
    "len(full_df[\"name\"].unique())"
   ]
  },
  {
   "cell_type": "markdown",
   "id": "radical-ensemble",
   "metadata": {},
   "source": [
    "Dataset contains named circles that are not spatially close to the others, filter to only a concentrated set of circles (subsampling_config.circle_names_with_diameter)."
   ]
  },
  {
   "cell_type": "code",
   "execution_count": 14,
   "id": "accepting-hazard",
   "metadata": {},
   "outputs": [
    {
     "data": {
      "text/plain": [
       "13"
      ]
     },
     "execution_count": 14,
     "metadata": {},
     "output_type": "execute_result"
    }
   ],
   "source": [
    "df = full_df.loc[\n",
    "    np.isin(full_df[\"name\"], list(subsampling_config.circle_names_with_diameter))\n",
    "]\n",
    "len(df[\"name\"].unique())"
   ]
  },
  {
   "cell_type": "markdown",
   "id": "weighted-indicator",
   "metadata": {},
   "source": [
    "Filter out circles with too high of a coverage (15 %)."
   ]
  },
  {
   "cell_type": "code",
   "execution_count": 15,
   "id": "dying-manchester",
   "metadata": {},
   "outputs": [
    {
     "data": {
      "text/plain": [
       "15"
      ]
     },
     "execution_count": 15,
     "metadata": {},
     "output_type": "execute_result"
    }
   ],
   "source": [
    "# How many are there with lower?\n",
    "sum(df[\"relative coverage\"] > 0.15)"
   ]
  },
  {
   "cell_type": "code",
   "execution_count": 16,
   "id": "impaired-dressing",
   "metadata": {},
   "outputs": [],
   "source": [
    "# Filter\n",
    "df = df.loc[df[\"relative coverage\"] < 0.15]"
   ]
  },
  {
   "cell_type": "markdown",
   "id": "native-fishing",
   "metadata": {},
   "source": [
    "Filter out circles with less than 30 I- and Y-nodes within the circle according to recommendation of Rohrbaugh et al. 2002."
   ]
  },
  {
   "cell_type": "code",
   "execution_count": 17,
   "id": "extreme-accused",
   "metadata": {},
   "outputs": [
    {
     "name": "stdout",
     "output_type": "stream",
     "text": [
      "There were 3 circles with less than 30 IY-nodes.\n"
     ]
    }
   ],
   "source": [
    "more_than = df[\"Y\"] + df[\"I\"] > 30\n",
    "print(f\"There were {sum(~more_than)} circles with less than 30 IY-nodes.\")\n",
    "df = df.loc[more_than]"
   ]
  },
  {
   "cell_type": "code",
   "execution_count": 18,
   "id": "white-announcement",
   "metadata": {},
   "outputs": [
    {
     "data": {
      "text/plain": [
       "664"
      ]
     },
     "execution_count": 18,
     "metadata": {},
     "output_type": "execute_result"
    }
   ],
   "source": [
    "# Simulation circle count at this point\n",
    "df.shape[0]"
   ]
  },
  {
   "cell_type": "code",
   "execution_count": 19,
   "id": "handy-intensity",
   "metadata": {},
   "outputs": [],
   "source": [
    "def only_half_radius(subsampled_radius, full_diameter, radius_constraint):\n",
    "    return subsampled_radius <= ((full_diameter / 2) * radius_constraint)"
   ]
  },
  {
   "cell_type": "markdown",
   "id": "anonymous-ceremony",
   "metadata": {},
   "source": [
    "Filter by radius (if wanted)"
   ]
  },
  {
   "cell_type": "code",
   "execution_count": 20,
   "id": "suspended-jacket",
   "metadata": {},
   "outputs": [
    {
     "name": "stdout",
     "output_type": "stream",
     "text": [
      "Before radius filter 664\n",
      "After radius filter 664\n"
     ]
    }
   ],
   "source": [
    "print(f\"Before radius filter {df.shape[0]}\")\n",
    "df = df.loc[\n",
    "    [\n",
    "        only_half_radius(\n",
    "            subsampled_radius,\n",
    "            subsampling_config.circle_names_with_diameter[name],\n",
    "            radius_constraint,\n",
    "        )\n",
    "        for subsampled_radius, name in zip(df[\"radius\"], df[\"name\"])\n",
    "    ]\n",
    "]\n",
    "print(f\"After radius filter {df.shape[0]}\")"
   ]
  },
  {
   "cell_type": "markdown",
   "id": "settled-mailing",
   "metadata": {},
   "source": [
    "The dataset is grouped by target area name."
   ]
  },
  {
   "cell_type": "code",
   "execution_count": 21,
   "id": "hidden-issue",
   "metadata": {},
   "outputs": [
    {
     "data": {
      "text/plain": [
       "13"
      ]
     },
     "execution_count": 21,
     "metadata": {},
     "output_type": "execute_result"
    }
   ],
   "source": [
    "df_grouped = df.groupby(\"name\")\n",
    "len(df_grouped)"
   ]
  },
  {
   "cell_type": "markdown",
   "id": "muslim-pricing",
   "metadata": {},
   "source": [
    "# Analysis of all datasets\n",
    "\n",
    "The full dataset can be used to fuel the second step of full subsampling:\n",
    "\n",
    "* A count of one to all of target area circles are chosen\n",
    "* From each target area circle one subsampled circle is chosen.\n",
    "\n",
    "This simulates areal sampling with (multiple) sample circles with varying radius. Only one circle per target area is chosen so spatial variance on the scale of the whole outcrop is always a factor.\n",
    "\n",
    "Because the base circle radii vary the random subsampling is weighted by the area of the circle so larger circles are picked more often."
   ]
  },
  {
   "cell_type": "markdown",
   "id": "several-carolina",
   "metadata": {},
   "source": [
    "It is possible to concentrate the subsampling to e.g. subsampled circles that are within a minimum and maximum area range."
   ]
  },
  {
   "cell_type": "code",
   "execution_count": 22,
   "id": "baking-addiction",
   "metadata": {},
   "outputs": [],
   "source": [
    "subsample_area_limits = (\n",
    "    utils.radius_to_area(min_radius),\n",
    "    utils.radius_to_area(max_radius),\n",
    ")"
   ]
  },
  {
   "cell_type": "markdown",
   "id": "continental-township",
   "metadata": {},
   "source": [
    "We cache the results of the Step 2 subsampling to speed up notebook runs. The filepath for the cache is sensitive to any changes in the underlying `df` dataset and reruns will occur if e.g. the size, loaded `df` filepath or constraints change (Change detection by no means absolute, user responsibility to rerun if needed.)."
   ]
  },
  {
   "cell_type": "code",
   "execution_count": 23,
   "id": "foster-surgery",
   "metadata": {},
   "outputs": [],
   "source": [
    "df_hash = df.shape[0]\n",
    "radius_constraint_hash = int(radius_constraint * 100)\n",
    "data_path_hash = data_path.stem\n",
    "\n",
    "subsample_area_limits_hash = int(sum(subsample_area_limits))\n",
    "\n",
    "savepath = (\n",
    "    subsampling_config.results_path\n",
    "    / f\"subsampling/cached_subsamples/agg_df_{df_hash}_{radius_constraint_hash}_{iterations}_{data_path_hash}_{subsample_area_limits_hash}.csv\"\n",
    ")\n",
    "\n",
    "# If the subsampling has already been conducted for current dataset it can be loaded from cache\n",
    "agg_df = utils.cached_subsampling(\n",
    "    dataframe_grouped=df_grouped,\n",
    "    iterations=iterations,\n",
    "    savepath=savepath,\n",
    "    subsample_area_limits=subsample_area_limits,\n",
    "    circle_names_with_diameter=subsampling_config.circle_names_with_diameter,\n",
    ")"
   ]
  },
  {
   "cell_type": "code",
   "execution_count": 24,
   "id": "blond-sellers",
   "metadata": {},
   "outputs": [
    {
     "data": {
      "text/html": [
       "<div>\n",
       "<style scoped>\n",
       "    .dataframe tbody tr th:only-of-type {\n",
       "        vertical-align: middle;\n",
       "    }\n",
       "\n",
       "    .dataframe tbody tr th {\n",
       "        vertical-align: top;\n",
       "    }\n",
       "\n",
       "    .dataframe thead th {\n",
       "        text-align: right;\n",
       "    }\n",
       "</style>\n",
       "<table border=\"1\" class=\"dataframe\">\n",
       "  <thead>\n",
       "    <tr style=\"text-align: right;\">\n",
       "      <th></th>\n",
       "      <th>area</th>\n",
       "      <th>circle_count</th>\n",
       "      <th>Connections per Branch</th>\n",
       "      <th>trace power_law exponent</th>\n",
       "      <th>branch power_law exponent</th>\n",
       "      <th>Fracture Intensity P21</th>\n",
       "      <th>Number of Traces</th>\n",
       "      <th>Number of Branches</th>\n",
       "      <th>radius</th>\n",
       "      <th>I</th>\n",
       "      <th>Y</th>\n",
       "      <th>X</th>\n",
       "      <th>Trace Boundary 1 Intersect Count</th>\n",
       "      <th>Trace Boundary 2 Intersect Count</th>\n",
       "      <th>Trace Boundary 0 Intersect Count</th>\n",
       "    </tr>\n",
       "  </thead>\n",
       "  <tbody>\n",
       "    <tr>\n",
       "      <th>count</th>\n",
       "      <td>10000.000000</td>\n",
       "      <td>10000.000000</td>\n",
       "      <td>10000.000000</td>\n",
       "      <td>10000.000000</td>\n",
       "      <td>10000.000000</td>\n",
       "      <td>10000.000000</td>\n",
       "      <td>10000.000000</td>\n",
       "      <td>10000.000000</td>\n",
       "      <td>10000.000000</td>\n",
       "      <td>10000.000000</td>\n",
       "      <td>10000.000000</td>\n",
       "      <td>10000.000000</td>\n",
       "      <td>10000.00000</td>\n",
       "      <td>2095.000000</td>\n",
       "      <td>10000.000000</td>\n",
       "    </tr>\n",
       "    <tr>\n",
       "      <th>mean</th>\n",
       "      <td>5142.046407</td>\n",
       "      <td>7.003800</td>\n",
       "      <td>1.439806</td>\n",
       "      <td>-1.735742</td>\n",
       "      <td>-2.728142</td>\n",
       "      <td>2.008698</td>\n",
       "      <td>10124.504150</td>\n",
       "      <td>22971.723450</td>\n",
       "      <td>99.236229</td>\n",
       "      <td>12140.927200</td>\n",
       "      <td>8108.081100</td>\n",
       "      <td>2369.569100</td>\n",
       "      <td>770.77370</td>\n",
       "      <td>6.112649</td>\n",
       "      <td>9738.354200</td>\n",
       "    </tr>\n",
       "    <tr>\n",
       "      <th>std</th>\n",
       "      <td>2967.127156</td>\n",
       "      <td>3.741816</td>\n",
       "      <td>0.039069</td>\n",
       "      <td>0.228854</td>\n",
       "      <td>0.399152</td>\n",
       "      <td>0.338399</td>\n",
       "      <td>6132.765702</td>\n",
       "      <td>14040.274576</td>\n",
       "      <td>53.654736</td>\n",
       "      <td>7339.653858</td>\n",
       "      <td>4944.982407</td>\n",
       "      <td>1492.764583</td>\n",
       "      <td>419.08288</td>\n",
       "      <td>4.845335</td>\n",
       "      <td>5931.754293</td>\n",
       "    </tr>\n",
       "    <tr>\n",
       "      <th>min</th>\n",
       "      <td>80.305162</td>\n",
       "      <td>1.000000</td>\n",
       "      <td>1.024194</td>\n",
       "      <td>-3.755718</td>\n",
       "      <td>-7.169715</td>\n",
       "      <td>0.905161</td>\n",
       "      <td>36.500000</td>\n",
       "      <td>67.500000</td>\n",
       "      <td>5.055880</td>\n",
       "      <td>52.000000</td>\n",
       "      <td>21.000000</td>\n",
       "      <td>5.000000</td>\n",
       "      <td>15.00000</td>\n",
       "      <td>1.000000</td>\n",
       "      <td>28.000000</td>\n",
       "    </tr>\n",
       "    <tr>\n",
       "      <th>25%</th>\n",
       "      <td>2643.646710</td>\n",
       "      <td>4.000000</td>\n",
       "      <td>1.423802</td>\n",
       "      <td>-1.864491</td>\n",
       "      <td>-2.875227</td>\n",
       "      <td>1.807954</td>\n",
       "      <td>4891.625000</td>\n",
       "      <td>10958.375000</td>\n",
       "      <td>52.900205</td>\n",
       "      <td>5902.000000</td>\n",
       "      <td>3879.000000</td>\n",
       "      <td>1103.000000</td>\n",
       "      <td>410.00000</td>\n",
       "      <td>2.000000</td>\n",
       "      <td>4679.000000</td>\n",
       "    </tr>\n",
       "    <tr>\n",
       "      <th>50%</th>\n",
       "      <td>5115.294556</td>\n",
       "      <td>7.000000</td>\n",
       "      <td>1.440022</td>\n",
       "      <td>-1.736911</td>\n",
       "      <td>-2.687855</td>\n",
       "      <td>1.967777</td>\n",
       "      <td>9940.500000</td>\n",
       "      <td>22465.500000</td>\n",
       "      <td>100.485916</td>\n",
       "      <td>11912.000000</td>\n",
       "      <td>7948.500000</td>\n",
       "      <td>2300.000000</td>\n",
       "      <td>792.00000</td>\n",
       "      <td>5.000000</td>\n",
       "      <td>9531.500000</td>\n",
       "    </tr>\n",
       "    <tr>\n",
       "      <th>75%</th>\n",
       "      <td>7406.138218</td>\n",
       "      <td>10.000000</td>\n",
       "      <td>1.456539</td>\n",
       "      <td>-1.607094</td>\n",
       "      <td>-2.521974</td>\n",
       "      <td>2.145098</td>\n",
       "      <td>14718.250000</td>\n",
       "      <td>33466.000000</td>\n",
       "      <td>144.162552</td>\n",
       "      <td>17627.000000</td>\n",
       "      <td>11815.250000</td>\n",
       "      <td>3459.000000</td>\n",
       "      <td>1117.00000</td>\n",
       "      <td>9.000000</td>\n",
       "      <td>14175.250000</td>\n",
       "    </tr>\n",
       "    <tr>\n",
       "      <th>max</th>\n",
       "      <td>15417.577580</td>\n",
       "      <td>13.000000</td>\n",
       "      <td>1.660799</td>\n",
       "      <td>-0.550155</td>\n",
       "      <td>-1.178875</td>\n",
       "      <td>4.632121</td>\n",
       "      <td>31132.000000</td>\n",
       "      <td>70787.000000</td>\n",
       "      <td>242.618430</td>\n",
       "      <td>37579.000000</td>\n",
       "      <td>24685.000000</td>\n",
       "      <td>7552.000000</td>\n",
       "      <td>1878.00000</td>\n",
       "      <td>28.000000</td>\n",
       "      <td>30184.000000</td>\n",
       "    </tr>\n",
       "  </tbody>\n",
       "</table>\n",
       "</div>"
      ],
      "text/plain": [
       "               area  circle_count  Connections per Branch  \\\n",
       "count  10000.000000  10000.000000            10000.000000   \n",
       "mean    5142.046407      7.003800                1.439806   \n",
       "std     2967.127156      3.741816                0.039069   \n",
       "min       80.305162      1.000000                1.024194   \n",
       "25%     2643.646710      4.000000                1.423802   \n",
       "50%     5115.294556      7.000000                1.440022   \n",
       "75%     7406.138218     10.000000                1.456539   \n",
       "max    15417.577580     13.000000                1.660799   \n",
       "\n",
       "       trace power_law exponent  branch power_law exponent  \\\n",
       "count              10000.000000               10000.000000   \n",
       "mean                  -1.735742                  -2.728142   \n",
       "std                    0.228854                   0.399152   \n",
       "min                   -3.755718                  -7.169715   \n",
       "25%                   -1.864491                  -2.875227   \n",
       "50%                   -1.736911                  -2.687855   \n",
       "75%                   -1.607094                  -2.521974   \n",
       "max                   -0.550155                  -1.178875   \n",
       "\n",
       "       Fracture Intensity P21  Number of Traces  Number of Branches  \\\n",
       "count            10000.000000      10000.000000        10000.000000   \n",
       "mean                 2.008698      10124.504150        22971.723450   \n",
       "std                  0.338399       6132.765702        14040.274576   \n",
       "min                  0.905161         36.500000           67.500000   \n",
       "25%                  1.807954       4891.625000        10958.375000   \n",
       "50%                  1.967777       9940.500000        22465.500000   \n",
       "75%                  2.145098      14718.250000        33466.000000   \n",
       "max                  4.632121      31132.000000        70787.000000   \n",
       "\n",
       "             radius             I             Y             X  \\\n",
       "count  10000.000000  10000.000000  10000.000000  10000.000000   \n",
       "mean      99.236229  12140.927200   8108.081100   2369.569100   \n",
       "std       53.654736   7339.653858   4944.982407   1492.764583   \n",
       "min        5.055880     52.000000     21.000000      5.000000   \n",
       "25%       52.900205   5902.000000   3879.000000   1103.000000   \n",
       "50%      100.485916  11912.000000   7948.500000   2300.000000   \n",
       "75%      144.162552  17627.000000  11815.250000   3459.000000   \n",
       "max      242.618430  37579.000000  24685.000000   7552.000000   \n",
       "\n",
       "       Trace Boundary 1 Intersect Count  Trace Boundary 2 Intersect Count  \\\n",
       "count                       10000.00000                       2095.000000   \n",
       "mean                          770.77370                          6.112649   \n",
       "std                           419.08288                          4.845335   \n",
       "min                            15.00000                          1.000000   \n",
       "25%                           410.00000                          2.000000   \n",
       "50%                           792.00000                          5.000000   \n",
       "75%                          1117.00000                          9.000000   \n",
       "max                          1878.00000                         28.000000   \n",
       "\n",
       "       Trace Boundary 0 Intersect Count  \n",
       "count                      10000.000000  \n",
       "mean                        9738.354200  \n",
       "std                         5931.754293  \n",
       "min                           28.000000  \n",
       "25%                         4679.000000  \n",
       "50%                         9531.500000  \n",
       "75%                        14175.250000  \n",
       "max                        30184.000000  "
      ]
     },
     "execution_count": 24,
     "metadata": {},
     "output_type": "execute_result"
    }
   ],
   "source": [
    "agg_df.describe()"
   ]
  },
  {
   "cell_type": "markdown",
   "id": "unusual-diabetes",
   "metadata": {},
   "source": [
    "# Variance when whole sample areas are categorized\n",
    "\n",
    "The areas and sample counts in each simulation can be used to categorize the simulations to visualize the difference between area amount and sample count and their relation to each other. "
   ]
  },
  {
   "cell_type": "markdown",
   "id": "rising-payroll",
   "metadata": {},
   "source": [
    "## Effect of boundary censoring (not used!)"
   ]
  },
  {
   "cell_type": "code",
   "execution_count": 25,
   "id": "noticed-adaptation",
   "metadata": {},
   "outputs": [
    {
     "data": {
      "image/png": "[encoded data removed]",
      "text/plain": [
       "<Figure size 432x288 with 1 Axes>"
      ]
     },
     "metadata": {
      "needs_background": "light"
     },
     "output_type": "display_data"
    }
   ],
   "source": [
    "agg_df[\"censored\"] = (\n",
    "    agg_df[\"Trace Boundary 1 Intersect Count\"]\n",
    "    + agg_df[\"Trace Boundary 2 Intersect Count\"]\n",
    ") / agg_df[\"Number of Traces\"]\n",
    "sns.histplot(data=agg_df, x=\"censored\")\n",
    "censored_bins = [0, 0.1, 0.2, 1.1]\n",
    "censored_labels = [\"0-10%\", \"10-20%\", \"20%+\"]\n",
    "agg_df[\"censored_binned\"] = pd.cut(\n",
    "    agg_df[\"censored\"], censored_bins, labels=censored_labels\n",
    ")"
   ]
  },
  {
   "cell_type": "markdown",
   "id": "experienced-wheel",
   "metadata": {},
   "source": [
    "## Effect of endpoints (not used!)"
   ]
  },
  {
   "cell_type": "code",
   "execution_count": 26,
   "id": "yellow-photograph",
   "metadata": {},
   "outputs": [
    {
     "data": {
      "image/png": "[encoded data removed]",
      "text/plain": [
       "<Figure size 432x288 with 1 Axes>"
      ]
     },
     "metadata": {
      "needs_background": "light"
     },
     "output_type": "display_data"
    }
   ],
   "source": [
    "agg_df[\"node_endpoints\"] = agg_df[\"Y\"] + agg_df[\"I\"]\n",
    "sns.histplot(data=agg_df, x=\"node_endpoints\")\n",
    "yi_bins = [0, 15000, 30000, 10e10]\n",
    "yi_labels = [\"0-15k\", \"15k-30k\", \"30k+\"]\n",
    "agg_df[\"node_endpoint_binned\"] = pd.cut(\n",
    "    agg_df[\"node_endpoints\"], yi_bins, labels=yi_labels\n",
    ")"
   ]
  },
  {
   "cell_type": "markdown",
   "id": "attempted-murder",
   "metadata": {},
   "source": [
    "## Effect of total area and circle count (used!)"
   ]
  },
  {
   "cell_type": "code",
   "execution_count": 27,
   "id": "upper-healing",
   "metadata": {},
   "outputs": [],
   "source": [
    "# Bin iterations based on total sample area in the iteration\n",
    "area_bins = [0, 4000, 8000, 20000]\n",
    "area_labels = [\"0-4\", \"4-8\", \"8-20\"]\n",
    "agg_df[\"area_binned\"] = pd.cut(agg_df[\"area\"], area_bins, labels=area_labels)\n",
    "\n",
    "# Bin iterations based on total circle count in the iteration\n",
    "cc_bins = [0, 5, 8, 11, 14]\n",
    "cc_labels = [\"1-4\", \"5-7\", \"8-10\", \"11-13\"]\n",
    "agg_df[\"circle_count_binned\"] = pd.cut(\n",
    "    agg_df[\"circle_count\"], cc_bins, labels=cc_labels\n",
    ")"
   ]
  },
  {
   "cell_type": "code",
   "execution_count": 28,
   "id": "invalid-murray",
   "metadata": {},
   "outputs": [],
   "source": [
    "level_grouped = agg_df.groupby([\"area_binned\", \"circle_count_binned\"])"
   ]
  },
  {
   "cell_type": "code",
   "execution_count": 29,
   "id": "damaged-dance",
   "metadata": {},
   "outputs": [
    {
     "name": "stdout",
     "output_type": "stream",
     "text": [
      "+---------------+-------+-------+--------+---------+\n",
      "| area_binned   |   1-4 |   5-7 |   8-10 |   11-13 |\n",
      "+===============+=======+=======+========+=========+\n",
      "| 0-4           |  3346 |   473 |     30 |       1 |\n",
      "+---------------+-------+-------+--------+---------+\n",
      "| 4-8           |   443 |  1796 |   1440 |     545 |\n",
      "+---------------+-------+-------+--------+---------+\n",
      "| 8-20          |     0 |   123 |    823 |     980 |\n",
      "+---------------+-------+-------+--------+---------+\n"
     ]
    }
   ],
   "source": [
    "print(level_grouped.area.count().unstack(level=-1).to_markdown(tablefmt=\"grid\"))"
   ]
  },
  {
   "cell_type": "code",
   "execution_count": 30,
   "id": "large-webcam",
   "metadata": {},
   "outputs": [
    {
     "data": {
      "image/png": "[encoded data removed]",
      "text/plain": [
       "<Figure size 504x216 with 1 Axes>"
      ]
     },
     "metadata": {
      "needs_background": "light"
     },
     "output_type": "display_data"
    }
   ],
   "source": [
    "fig = plotting_utils.plot_group_pair_counts(\n",
    "    agg_df=agg_df,\n",
    "    x=\"circle_count_binned\",\n",
    "    hue=\"area_binned\",\n",
    "    ylabel=\"Count\",\n",
    "    xlabel=\"Circle Count\",\n",
    "    title=f\"Group pair circle counts ({min_radius=}, {max_radius=})\",\n",
    "    legend_title=r\"Area $10^3m^2$\",\n",
    ")\n",
    "if save:\n",
    "    fig.savefig(\n",
    "        f\"{subsampling_path}/boxplots/circle_amounts_{subsample_area_limits_hash}.svg\",\n",
    "        bbox_inches=\"tight\",\n",
    "    )"
   ]
  },
  {
   "cell_type": "markdown",
   "id": "nuclear-spine",
   "metadata": {},
   "source": [
    "Filter group pairs with very low iteration count (less than 100 samples AND less than 1% of total samples in group pair) as they offer \"bad\" boxplots."
   ]
  },
  {
   "cell_type": "code",
   "execution_count": 31,
   "id": "innocent-purpose",
   "metadata": {},
   "outputs": [
    {
     "name": "stdout",
     "output_type": "stream",
     "text": [
      "Filtered 31 iterations.\n"
     ]
    }
   ],
   "source": [
    "full_length = agg_df.shape[0]\n",
    "smol_groups = []\n",
    "for cc in cc_labels:\n",
    "    for aa in area_labels:\n",
    "        query = np.logical_and(\n",
    "            agg_df[\"circle_count_binned\"] == cc, agg_df[\"area_binned\"] == aa\n",
    "        )\n",
    "\n",
    "        if sum(query) / full_length < 0.01 and sum(query) < 100:\n",
    "            smol_groups.append((cc, aa))\n",
    "\n",
    "filterer = [True] * full_length\n",
    "for cc, aa in smol_groups:\n",
    "    group_filterer = [\n",
    "        not (circle_cc == cc and area_aa == aa)\n",
    "        for circle_cc, area_aa in zip(\n",
    "            agg_df[\"circle_count_binned\"], agg_df[\"area_binned\"]\n",
    "        )\n",
    "    ]\n",
    "    filterer = np.logical_and(filterer, group_filterer)\n",
    "\n",
    "filtered_agg = agg_df.loc[filterer]\n",
    "\n",
    "print(f\"Filtered {full_length - filtered_agg.shape[0]} iterations.\")"
   ]
  },
  {
   "cell_type": "code",
   "execution_count": 32,
   "id": "uniform-breed",
   "metadata": {},
   "outputs": [
    {
     "data": {
      "image/png": "[encoded data removed]",
      "text/plain": [
       "<Figure size 595.44x673.92 with 16 Axes>"
      ]
     },
     "metadata": {
      "needs_background": "light"
     },
     "output_type": "display_data"
    }
   ],
   "source": [
    "fig = plotting_utils.grouped_boxplots(\n",
    "    aggregate_df=filtered_agg,\n",
    "    reference_value_dict=reference_value_dict,\n",
    "    group_col_first=\"circle_count_binned\",\n",
    "    group_col_second=\"area_binned\",\n",
    "    group_first_labels=cc_labels,\n",
    "    group_second_labels=area_labels,\n",
    ")\n",
    "savepath = Path(f\"{subsampling_path}/boxplots/grouped_boxplots.svg\")\n",
    "if save:\n",
    "    fig.savefig(savepath, bbox_inches=\"tight\")"
   ]
  },
  {
   "cell_type": "markdown",
   "id": "incorrect-leader",
   "metadata": {},
   "source": [
    "## Discussion\n",
    "\n",
    "We fit beta distributions to two group pairs for two parameters. All relevant statistics are within the plots."
   ]
  },
  {
   "cell_type": "code",
   "execution_count": 33,
   "id": "steady-thomas",
   "metadata": {},
   "outputs": [],
   "source": [
    "circle_groups = (\"5-7\", \"8-10\")\n",
    "area_groups = (\"4-8\", \"4-8\")\n",
    "\n",
    "params = (\"Fracture Intensity P21\", \"trace power_law exponent\")"
   ]
  },
  {
   "cell_type": "code",
   "execution_count": 34,
   "id": "experienced-conducting",
   "metadata": {},
   "outputs": [
    {
     "data": {
      "image/png": "[encoded data removed]",
      "text/plain": [
       "<Figure size 595.44x505.44 with 2 Axes>"
      ]
     },
     "metadata": {
      "needs_background": "light"
     },
     "output_type": "display_data"
    },
    {
     "data": {
      "image/png": "[encoded data removed]",
      "text/plain": [
       "<Figure size 595.44x505.44 with 2 Axes>"
      ]
     },
     "metadata": {
      "needs_background": "light"
     },
     "output_type": "display_data"
    }
   ],
   "source": [
    "for param in params:\n",
    "    # Initialize plot\n",
    "    fig, axes = plt.subplots(2, 1, figsize=utils.paper_figsize(0.6), sharex=True)\n",
    "    for circle_group, area_group, ax in zip(circle_groups, area_groups, axes):\n",
    "\n",
    "        plotting_utils.plot_distribution(\n",
    "            dist=stats.beta,\n",
    "            dist_str=\"beta\",\n",
    "            agg_df=agg_df,\n",
    "            circle_group=circle_group,\n",
    "            area_group=area_group,\n",
    "            param=param,\n",
    "            reference_value_dict=reference_value_dict,\n",
    "            ax=ax,\n",
    "            legend=ax == axes[0],\n",
    "        )\n",
    "    fig.suptitle(f\"Beta distribution fit for {utils.param_renamer(param)}.\")\n",
    "    # Save figure\n",
    "    plot_name = \"\".join([part[0] for part in param.split(\" \")])\n",
    "    savepath = Path(f\"{subsampling_path}/beta_{plot_name}.svg\")\n",
    "    if save:\n",
    "        fig.savefig(savepath, bbox_inches=\"tight\")"
   ]
  }
 ],
 "metadata": {
  "kernelspec": {
   "display_name": "Python 3",
   "language": "python",
   "name": "python3"
  },
  "language_info": {
   "codemirror_mode": {
    "name": "ipython",
    "version": 3
   },
   "file_extension": ".py",
   "mimetype": "text/x-python",
   "name": "python",
   "nbconvert_exporter": "python",
   "pygments_lexer": "ipython3",
   "version": "3.8.6"
  }
 },
 "nbformat": 4,
 "nbformat_minor": 5
}

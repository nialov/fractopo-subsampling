{
 "cells": [
  {
   "cell_type": "markdown",
   "id": "arranged-absolute",
   "metadata": {},
   "source": [
    "# Analysis of digitized base circles"
   ]
  },
  {
   "cell_type": "code",
   "execution_count": 1,
   "id": "common-passing",
   "metadata": {},
   "outputs": [
    {
     "name": "stderr",
     "output_type": "stream",
     "text": [
      "/home/nialov/.local/share/virtualenvs/trace_repo-280iuCPs/lib/python3.8/site-packages/geopandas/_compat.py:106: UserWarning: The Shapely GEOS version (3.8.0-CAPI-1.13.1 ) is incompatible with the GEOS version PyGEOS was compiled with (3.8.1-CAPI-1.13.3). Conversions between both will be slow.\n",
      "  warnings.warn(\n"
     ]
    }
   ],
   "source": [
    "import geopandas as gpd\n",
    "import seaborn as sns\n",
    "import matplotlib.pyplot as plt\n",
    "import matplotlib.gridspec as gridspec\n",
    "import pandas as pd\n",
    "import numpy as np\n",
    "from sklearn.linear_model import LinearRegression\n",
    "from itertools import count\n",
    "from pathlib import Path\n",
    "import subsampling_config"
   ]
  },
  {
   "cell_type": "code",
   "execution_count": 2,
   "id": "senior-behavior",
   "metadata": {},
   "outputs": [],
   "source": [
    "import fractopo_subsampling.utils as utils\n",
    "import fractopo_subsampling.plotting_utils as plotting_utils"
   ]
  },
  {
   "cell_type": "code",
   "execution_count": 3,
   "id": "judicial-broadcasting",
   "metadata": {},
   "outputs": [],
   "source": [
    "sns.set_theme(context=\"paper\", style=\"ticks\", font_scale=1.3)"
   ]
  },
  {
   "cell_type": "markdown",
   "id": "popular-korea",
   "metadata": {},
   "source": [
    "## Read data"
   ]
  },
  {
   "cell_type": "code",
   "execution_count": 7,
   "id": "fa19a10d-839f-4e14-9e42-3b3e4a0949aa",
   "metadata": {},
   "outputs": [
    {
     "data": {
      "text/plain": [
       "PosixPath('.')"
      ]
     },
     "execution_count": 7,
     "metadata": {},
     "output_type": "execute_result"
    }
   ],
   "source": [
    "Path(\".\")"
   ]
  },
  {
   "cell_type": "code",
   "execution_count": 4,
   "id": "italian-crazy",
   "metadata": {},
   "outputs": [
    {
     "ename": "DriverError",
     "evalue": "../results/Ahvenanmaa_analysis_points.gpkg: No such file or directory",
     "output_type": "error",
     "traceback": [
      "\u001b[0;31m---------------------------------------------------------------------------\u001b[0m",
      "\u001b[0;31mCPLE_OpenFailedError\u001b[0m                      Traceback (most recent call last)",
      "\u001b[0;32mfiona/_shim.pyx\u001b[0m in \u001b[0;36mfiona._shim.gdal_open_vector\u001b[0;34m()\u001b[0m\n",
      "\u001b[0;32mfiona/_err.pyx\u001b[0m in \u001b[0;36mfiona._err.exc_wrap_pointer\u001b[0;34m()\u001b[0m\n",
      "\u001b[0;31mCPLE_OpenFailedError\u001b[0m: ../results/Ahvenanmaa_analysis_points.gpkg: No such file or directory",
      "\nDuring handling of the above exception, another exception occurred:\n",
      "\u001b[0;31mDriverError\u001b[0m                               Traceback (most recent call last)",
      "\u001b[0;32m<ipython-input-4-5eb38ee89901>\u001b[0m in \u001b[0;36m<module>\u001b[0;34m\u001b[0m\n\u001b[0;32m----> 1\u001b[0;31m \u001b[0manalysis_points\u001b[0m \u001b[0;34m=\u001b[0m \u001b[0mgpd\u001b[0m\u001b[0;34m.\u001b[0m\u001b[0mread_file\u001b[0m\u001b[0;34m(\u001b[0m\u001b[0msubsampling_config\u001b[0m\u001b[0;34m.\u001b[0m\u001b[0manalysis_points_path\u001b[0m\u001b[0;34m)\u001b[0m\u001b[0;34m\u001b[0m\u001b[0;34m\u001b[0m\u001b[0m\n\u001b[0m",
      "\u001b[0;32m~/.local/share/virtualenvs/trace_repo-280iuCPs/lib/python3.8/site-packages/geopandas/io/file.py\u001b[0m in \u001b[0;36m_read_file\u001b[0;34m(filename, bbox, mask, rows, **kwargs)\u001b[0m\n\u001b[1;32m    158\u001b[0m \u001b[0;34m\u001b[0m\u001b[0m\n\u001b[1;32m    159\u001b[0m     \u001b[0;32mwith\u001b[0m \u001b[0mfiona_env\u001b[0m\u001b[0;34m(\u001b[0m\u001b[0;34m)\u001b[0m\u001b[0;34m:\u001b[0m\u001b[0;34m\u001b[0m\u001b[0;34m\u001b[0m\u001b[0m\n\u001b[0;32m--> 160\u001b[0;31m         \u001b[0;32mwith\u001b[0m \u001b[0mreader\u001b[0m\u001b[0;34m(\u001b[0m\u001b[0mpath_or_bytes\u001b[0m\u001b[0;34m,\u001b[0m \u001b[0;34m**\u001b[0m\u001b[0mkwargs\u001b[0m\u001b[0;34m)\u001b[0m \u001b[0;32mas\u001b[0m \u001b[0mfeatures\u001b[0m\u001b[0;34m:\u001b[0m\u001b[0;34m\u001b[0m\u001b[0;34m\u001b[0m\u001b[0m\n\u001b[0m\u001b[1;32m    161\u001b[0m \u001b[0;34m\u001b[0m\u001b[0m\n\u001b[1;32m    162\u001b[0m             \u001b[0;31m# In a future Fiona release the crs attribute of features will\u001b[0m\u001b[0;34m\u001b[0m\u001b[0;34m\u001b[0m\u001b[0;34m\u001b[0m\u001b[0m\n",
      "\u001b[0;32m~/.local/share/virtualenvs/trace_repo-280iuCPs/lib/python3.8/site-packages/fiona/env.py\u001b[0m in \u001b[0;36mwrapper\u001b[0;34m(*args, **kwargs)\u001b[0m\n\u001b[1;32m    406\u001b[0m     \u001b[0;32mdef\u001b[0m \u001b[0mwrapper\u001b[0m\u001b[0;34m(\u001b[0m\u001b[0;34m*\u001b[0m\u001b[0margs\u001b[0m\u001b[0;34m,\u001b[0m \u001b[0;34m**\u001b[0m\u001b[0mkwargs\u001b[0m\u001b[0;34m)\u001b[0m\u001b[0;34m:\u001b[0m\u001b[0;34m\u001b[0m\u001b[0;34m\u001b[0m\u001b[0m\n\u001b[1;32m    407\u001b[0m         \u001b[0;32mif\u001b[0m \u001b[0mlocal\u001b[0m\u001b[0;34m.\u001b[0m\u001b[0m_env\u001b[0m\u001b[0;34m:\u001b[0m\u001b[0;34m\u001b[0m\u001b[0;34m\u001b[0m\u001b[0m\n\u001b[0;32m--> 408\u001b[0;31m             \u001b[0;32mreturn\u001b[0m \u001b[0mf\u001b[0m\u001b[0;34m(\u001b[0m\u001b[0;34m*\u001b[0m\u001b[0margs\u001b[0m\u001b[0;34m,\u001b[0m \u001b[0;34m**\u001b[0m\u001b[0mkwargs\u001b[0m\u001b[0;34m)\u001b[0m\u001b[0;34m\u001b[0m\u001b[0;34m\u001b[0m\u001b[0m\n\u001b[0m\u001b[1;32m    409\u001b[0m         \u001b[0;32melse\u001b[0m\u001b[0;34m:\u001b[0m\u001b[0;34m\u001b[0m\u001b[0;34m\u001b[0m\u001b[0m\n\u001b[1;32m    410\u001b[0m             \u001b[0;32mif\u001b[0m \u001b[0misinstance\u001b[0m\u001b[0;34m(\u001b[0m\u001b[0margs\u001b[0m\u001b[0;34m[\u001b[0m\u001b[0;36m0\u001b[0m\u001b[0;34m]\u001b[0m\u001b[0;34m,\u001b[0m \u001b[0mstr\u001b[0m\u001b[0;34m)\u001b[0m\u001b[0;34m:\u001b[0m\u001b[0;34m\u001b[0m\u001b[0;34m\u001b[0m\u001b[0m\n",
      "\u001b[0;32m~/.local/share/virtualenvs/trace_repo-280iuCPs/lib/python3.8/site-packages/fiona/__init__.py\u001b[0m in \u001b[0;36mopen\u001b[0;34m(fp, mode, driver, schema, crs, encoding, layer, vfs, enabled_drivers, crs_wkt, **kwargs)\u001b[0m\n\u001b[1;32m    254\u001b[0m \u001b[0;34m\u001b[0m\u001b[0m\n\u001b[1;32m    255\u001b[0m         \u001b[0;32mif\u001b[0m \u001b[0mmode\u001b[0m \u001b[0;32min\u001b[0m \u001b[0;34m(\u001b[0m\u001b[0;34m'a'\u001b[0m\u001b[0;34m,\u001b[0m \u001b[0;34m'r'\u001b[0m\u001b[0;34m)\u001b[0m\u001b[0;34m:\u001b[0m\u001b[0;34m\u001b[0m\u001b[0;34m\u001b[0m\u001b[0m\n\u001b[0;32m--> 256\u001b[0;31m             c = Collection(path, mode, driver=driver, encoding=encoding,\n\u001b[0m\u001b[1;32m    257\u001b[0m                            layer=layer, enabled_drivers=enabled_drivers, **kwargs)\n\u001b[1;32m    258\u001b[0m         \u001b[0;32melif\u001b[0m \u001b[0mmode\u001b[0m \u001b[0;34m==\u001b[0m \u001b[0;34m'w'\u001b[0m\u001b[0;34m:\u001b[0m\u001b[0;34m\u001b[0m\u001b[0;34m\u001b[0m\u001b[0m\n",
      "\u001b[0;32m~/.local/share/virtualenvs/trace_repo-280iuCPs/lib/python3.8/site-packages/fiona/collection.py\u001b[0m in \u001b[0;36m__init__\u001b[0;34m(self, path, mode, driver, schema, crs, encoding, layer, vsi, archive, enabled_drivers, crs_wkt, ignore_fields, ignore_geometry, **kwargs)\u001b[0m\n\u001b[1;32m    160\u001b[0m             \u001b[0;32mif\u001b[0m \u001b[0mself\u001b[0m\u001b[0;34m.\u001b[0m\u001b[0mmode\u001b[0m \u001b[0;34m==\u001b[0m \u001b[0;34m'r'\u001b[0m\u001b[0;34m:\u001b[0m\u001b[0;34m\u001b[0m\u001b[0;34m\u001b[0m\u001b[0m\n\u001b[1;32m    161\u001b[0m                 \u001b[0mself\u001b[0m\u001b[0;34m.\u001b[0m\u001b[0msession\u001b[0m \u001b[0;34m=\u001b[0m \u001b[0mSession\u001b[0m\u001b[0;34m(\u001b[0m\u001b[0;34m)\u001b[0m\u001b[0;34m\u001b[0m\u001b[0;34m\u001b[0m\u001b[0m\n\u001b[0;32m--> 162\u001b[0;31m                 \u001b[0mself\u001b[0m\u001b[0;34m.\u001b[0m\u001b[0msession\u001b[0m\u001b[0;34m.\u001b[0m\u001b[0mstart\u001b[0m\u001b[0;34m(\u001b[0m\u001b[0mself\u001b[0m\u001b[0;34m,\u001b[0m \u001b[0;34m**\u001b[0m\u001b[0mkwargs\u001b[0m\u001b[0;34m)\u001b[0m\u001b[0;34m\u001b[0m\u001b[0;34m\u001b[0m\u001b[0m\n\u001b[0m\u001b[1;32m    163\u001b[0m             \u001b[0;32melif\u001b[0m \u001b[0mself\u001b[0m\u001b[0;34m.\u001b[0m\u001b[0mmode\u001b[0m \u001b[0;32min\u001b[0m \u001b[0;34m(\u001b[0m\u001b[0;34m'a'\u001b[0m\u001b[0;34m,\u001b[0m \u001b[0;34m'w'\u001b[0m\u001b[0;34m)\u001b[0m\u001b[0;34m:\u001b[0m\u001b[0;34m\u001b[0m\u001b[0;34m\u001b[0m\u001b[0m\n\u001b[1;32m    164\u001b[0m                 \u001b[0mself\u001b[0m\u001b[0;34m.\u001b[0m\u001b[0msession\u001b[0m \u001b[0;34m=\u001b[0m \u001b[0mWritingSession\u001b[0m\u001b[0;34m(\u001b[0m\u001b[0;34m)\u001b[0m\u001b[0;34m\u001b[0m\u001b[0;34m\u001b[0m\u001b[0m\n",
      "\u001b[0;32mfiona/ogrext.pyx\u001b[0m in \u001b[0;36mfiona.ogrext.Session.start\u001b[0;34m()\u001b[0m\n",
      "\u001b[0;32mfiona/_shim.pyx\u001b[0m in \u001b[0;36mfiona._shim.gdal_open_vector\u001b[0;34m()\u001b[0m\n",
      "\u001b[0;31mDriverError\u001b[0m: ../results/Ahvenanmaa_analysis_points.gpkg: No such file or directory"
     ]
    }
   ],
   "source": [
    "analysis_points = gpd.read_file(subsampling_config.analysis_points_path)"
   ]
  },
  {
   "cell_type": "markdown",
   "id": "continent-beijing",
   "metadata": {},
   "source": [
    "Data is filtered to only selected target areas, spatially concentrated. Neither radius or coverage filter affects this dataset."
   ]
  },
  {
   "cell_type": "code",
   "execution_count": null,
   "id": "corporate-impossible",
   "metadata": {},
   "outputs": [],
   "source": [
    "filtered = utils.filter_dataframe(\n",
    "    analysis_points,\n",
    "    list(subsampling_config.circle_names_with_diameter),\n",
    "    filter_radius=(5, 51),\n",
    "    relative_coverage_threshold=0.11,\n",
    ")"
   ]
  },
  {
   "cell_type": "markdown",
   "id": "smart-buffer",
   "metadata": {},
   "source": [
    "The maximum relative coverage is:"
   ]
  },
  {
   "cell_type": "code",
   "execution_count": null,
   "id": "missing-alarm",
   "metadata": {},
   "outputs": [],
   "source": [
    "filtered[utils.Utils.relative_coverage].max()"
   ]
  },
  {
   "cell_type": "code",
   "execution_count": null,
   "id": "exact-vienna",
   "metadata": {},
   "outputs": [],
   "source": [
    "analysis_points.shape[0], filtered.shape[0]"
   ]
  },
  {
   "cell_type": "markdown",
   "id": "sacred-toolbox",
   "metadata": {},
   "source": [
    "Shoreline dataset contains a rough sketch of the Getaberget shoreline for visualization purposes only."
   ]
  },
  {
   "cell_type": "code",
   "execution_count": null,
   "id": "international-major",
   "metadata": {},
   "outputs": [],
   "source": [
    "# shoreline = gpd.read_file(subsampling_config.shoreline_geojson_url)\n",
    "shoreline = gpd.read_file(\n",
    "    \"/home/nialov/nikke-projects/Pipenv_projects/fractopo_scripts/misc/shoreline.geojson\"\n",
    ")"
   ]
  },
  {
   "cell_type": "markdown",
   "id": "bridal-measurement",
   "metadata": {},
   "source": [
    "## Determine reference values for simulation analyses\n",
    "\n",
    "The parameter values determined from the full dataset should represent the most accurate assesment.\n",
    "\n",
    "Because the full circle radii vary, the achieved parameter results must be weighted by the area of the circle."
   ]
  },
  {
   "cell_type": "code",
   "execution_count": null,
   "id": "social-andrew",
   "metadata": {},
   "outputs": [],
   "source": [
    "reference_values = {\n",
    "    utils.param_renamer(param): round(\n",
    "        np.average(filtered[param], weights=filtered[\"area\"]), 4\n",
    "    )\n",
    "    for param in utils.Utils.params_with_func\n",
    "    if param in utils.Utils.selected_params\n",
    "}\n",
    "# Save to local file\n",
    "reference_value_df = pd.DataFrame(\n",
    "    {\"Parameter\": reference_values.keys(), \"Value\": reference_values.values()}\n",
    ")\n",
    "reference_value_df.to_csv(\n",
    "    subsampling_config.base_circle_reference_value_csv_path, index=False\n",
    ")"
   ]
  },
  {
   "cell_type": "code",
   "execution_count": null,
   "id": "distinct-suspension",
   "metadata": {},
   "outputs": [],
   "source": [
    "reference_value_df"
   ]
  },
  {
   "cell_type": "markdown",
   "id": "received-superior",
   "metadata": {},
   "source": [
    "Total area in base circles."
   ]
  },
  {
   "cell_type": "code",
   "execution_count": null,
   "id": "current-simpson",
   "metadata": {},
   "outputs": [],
   "source": [
    "filtered[\"area\"].sum()"
   ]
  },
  {
   "cell_type": "markdown",
   "id": "continent-dynamics",
   "metadata": {},
   "source": [
    "## Spatial variance analysis of parameters\n",
    "\n",
    "Do parameters have a direct correlation with their spatial location in E-W or N-S axes?"
   ]
  },
  {
   "cell_type": "code",
   "execution_count": null,
   "id": "vietnamese-world",
   "metadata": {},
   "outputs": [],
   "source": [
    "filtered[\"x\"] = [point.x for point in filtered.geometry.values]\n",
    "filtered[\"y\"] = [point.y for point in filtered.geometry.values]"
   ]
  },
  {
   "cell_type": "code",
   "execution_count": null,
   "id": "stopped-funds",
   "metadata": {},
   "outputs": [],
   "source": [
    "filtered[\"name\"]"
   ]
  },
  {
   "cell_type": "code",
   "execution_count": null,
   "id": "suffering-algorithm",
   "metadata": {},
   "outputs": [],
   "source": [
    "plotting_utils.plot_base_circle_map(filtered=filtered, shoreline=shoreline)"
   ]
  },
  {
   "cell_type": "code",
   "execution_count": null,
   "id": "hawaiian-opinion",
   "metadata": {},
   "outputs": [],
   "source": [
    "coords = plotting_utils.base_circle_id_coords(filtered)\n",
    "id_dict = plotting_utils.base_circle_id_dict(coords)\n",
    "id_dict"
   ]
  },
  {
   "cell_type": "code",
   "execution_count": null,
   "id": "brilliant-watershed",
   "metadata": {},
   "outputs": [],
   "source": [
    "base_circle_dicts = []\n",
    "for key, value in id_dict.items():\n",
    "    base_circle_dict = dict()\n",
    "    base_circle_dict[\"ID\"] = value\n",
    "    base_circle_dict[\"Radius (m)\"] = filtered[\"radius\"].values[filtered[\"name\"] == key][\n",
    "        0\n",
    "    ]\n",
    "    base_circle_dict[\"Name\"] = key\n",
    "    base_circle_dicts.append(base_circle_dict)\n",
    "df = pd.DataFrame(base_circle_dicts)\n",
    "\n",
    "# Update a local file with always correct ids for all target areas\n",
    "df.to_csv(subsampling_config.base_circle_ids_csv_path, index=False)"
   ]
  },
  {
   "cell_type": "code",
   "execution_count": null,
   "id": "religious-particular",
   "metadata": {},
   "outputs": [],
   "source": [
    "# Update filtered as alternative to Ahvenanmaa_analysis_points\n",
    "filtered[\"CIRCLE_ID\"] = [id_dict[name] for name in filtered[\"name\"].values]\n",
    "\n",
    "# Have to drop x and y\n",
    "filtered.drop(columns=[\"x\", \"y\"]).to_file(\n",
    "    subsampling_config.filtered_analysis_points, driver=\"GPKG\"\n",
    ")"
   ]
  },
  {
   "cell_type": "code",
   "execution_count": null,
   "id": "greater-brazilian",
   "metadata": {},
   "outputs": [],
   "source": [
    "filtered[\"Number of Traces\"].sum()"
   ]
  },
  {
   "cell_type": "code",
   "execution_count": null,
   "id": "rubber-breeding",
   "metadata": {},
   "outputs": [],
   "source": [
    "def format_func_m_to_km(value, tick_number):\n",
    "    return int(value / 1000)"
   ]
  },
  {
   "cell_type": "code",
   "execution_count": null,
   "id": "executed-single",
   "metadata": {},
   "outputs": [],
   "source": [
    "fig = plt.figure(constrained_layout=True, figsize=utils.paper_figsize(0.8))\n",
    "\n",
    "gs = fig.add_gridspec(3, 2)\n",
    "\n",
    "fig_top_ax = fig.add_subplot(gs[0, :])\n",
    "fig_left_middle = fig.add_subplot(gs[1, 0])\n",
    "fig_right_middle = fig.add_subplot(gs[1, 1])\n",
    "fig_left_bot = fig.add_subplot(gs[2, 0])\n",
    "fig_right_bot = fig.add_subplot(gs[2, 1])\n",
    "\n",
    "\n",
    "fig_top_ax = plotting_utils.plot_base_circle_map(\n",
    "    filtered=filtered, shoreline=shoreline, ax=fig_top_ax\n",
    ")\n",
    "\n",
    "fig_top_ax.xaxis.set_major_formatter(plt.FuncFormatter(format_func_m_to_km))\n",
    "fig_top_ax.yaxis.set_major_formatter(plt.FuncFormatter(format_func_m_to_km))\n",
    "\n",
    "fig_top_ax.set_ylabel(\"Y (km)\")\n",
    "fig_top_ax.set_xlabel(\"X (km)\")\n",
    "fig_top_ax.legend(**{\"edgecolor\": \"black\", \"loc\": \"lower right\", \"framealpha\": 1})\n",
    "fig_top_ax.text(0.025, 0.9, \"A\", transform=fig_top_ax.transAxes, fontweight=\"bold\")\n",
    "fig_top_ax.text(\n",
    "    0.020,\n",
    "    0.04,\n",
    "    \"ETRS-TM35FIN\",\n",
    "    transform=fig_top_ax.transAxes,\n",
    "    fontsize=9,\n",
    "    style=\"italic\",\n",
    ")\n",
    "\n",
    "# fig, axes = plt.subplots(3, 2, figsize=utils.paper_figsize(1), sharex=True)\n",
    "for param, ax, text in zip(\n",
    "    list(utils.Utils.params_with_func)[0:4],\n",
    "    [fig_left_middle, fig_right_middle, fig_left_bot, fig_right_bot],\n",
    "    (\"B\", \"C\", \"D\", \"E\"),\n",
    "):\n",
    "    sns.regplot(data=filtered, x=\"x\", y=param, ax=ax, ci=95, color=\"black\")\n",
    "    if param != utils.param_renamer(param):\n",
    "        ax.set_ylabel(utils.param_renamer(param))\n",
    "    ax.xaxis.set_major_formatter(plt.FuncFormatter(format_func_m_to_km))\n",
    "    ax.set_xlabel(\"X (km)\")\n",
    "    ax.set_xlim(min(filtered[\"x\"]) - 100, max(filtered[\"x\"]) + 100)\n",
    "    ax.text(0.05, 0.9, text, transform=ax.transAxes, fontweight=\"bold\")\n",
    "\n",
    "fig.savefig(\n",
    "    subsampling_config.results_path / \"base_circle_map.svg\", bbox_inches=\"tight\"\n",
    ")"
   ]
  },
  {
   "cell_type": "markdown",
   "id": "breeding-hamilton",
   "metadata": {},
   "source": [
    "## Miscellaneous analyses"
   ]
  },
  {
   "cell_type": "markdown",
   "id": "hispanic-greenhouse",
   "metadata": {},
   "source": [
    "Simplify the significance of powerlaw vs. lognormal distribution comparison for traces."
   ]
  },
  {
   "cell_type": "code",
   "execution_count": null,
   "id": "danish-governor",
   "metadata": {},
   "outputs": [],
   "source": [
    "# Simplify significance of powerlaw vs. lognormal distribution comparison\n",
    "filtered[\"POWERLAW_VS_LOGNORMAL RP\"] = [\n",
    "    val if r > 0 else -val\n",
    "    for val, r in zip(\n",
    "        filtered[utils.Utils.trace_power_law_vs_lognormal_p],\n",
    "        filtered[utils.Utils.trace_power_law_vs_lognormal_r],\n",
    "    )\n",
    "]\n",
    "\n",
    "for param in utils.Utils.params_with_func:\n",
    "    sns.lmplot(\n",
    "        data=filtered, x=\"POWERLAW_VS_LOGNORMAL RP\", y=\"trace power_law exponent\"\n",
    "    )\n",
    "    break"
   ]
  },
  {
   "cell_type": "markdown",
   "id": "asian-andorra",
   "metadata": {},
   "source": [
    "Plot RP and cut-off."
   ]
  },
  {
   "cell_type": "code",
   "execution_count": null,
   "id": "cellular-involvement",
   "metadata": {},
   "outputs": [],
   "source": [
    "sns.lmplot(data=filtered, x=\"POWERLAW_VS_LOGNORMAL RP\", y=\"trace power_law cut-off\")"
   ]
  },
  {
   "cell_type": "markdown",
   "id": "wicked-optics",
   "metadata": {},
   "source": [
    "Simplify the significance of powerlaw vs. lognormal distribution comparison for branches."
   ]
  },
  {
   "cell_type": "code",
   "execution_count": null,
   "id": "intellectual-christian",
   "metadata": {},
   "outputs": [],
   "source": [
    "# Simplify significance of powerlaw vs. lognormal distribution comparison\n",
    "filtered[\"BRANCH POWERLAW_VS_LOGNORMAL RP\"] = [\n",
    "    val if r > 0 else -val\n",
    "    for val, r in zip(\n",
    "        filtered[utils.Utils.trace_power_law_vs_lognormal_p.replace(\"trace\", \"branch\")],\n",
    "        filtered[utils.Utils.trace_power_law_vs_lognormal_r.replace(\"trace\", \"branch\")],\n",
    "    )\n",
    "]\n",
    "\n",
    "for param in utils.Utils.params_with_func:\n",
    "    sns.lmplot(\n",
    "        data=filtered,\n",
    "        x=\"BRANCH POWERLAW_VS_LOGNORMAL RP\",\n",
    "        y=\"branch power_law exponent\",\n",
    "    )\n",
    "    break"
   ]
  },
  {
   "cell_type": "code",
   "execution_count": null,
   "id": "christian-consortium",
   "metadata": {},
   "outputs": [],
   "source": [
    "sns.lmplot(\n",
    "    data=filtered, x=\"BRANCH POWERLAW_VS_LOGNORMAL RP\", y=\"branch power_law cut-off\"\n",
    ")"
   ]
  },
  {
   "cell_type": "code",
   "execution_count": null,
   "id": "small-mustang",
   "metadata": {},
   "outputs": [],
   "source": [
    "filtered[\"branch lognormal vs. exponential R\"], filtered[\n",
    "    \"branch lognormal vs. exponential p\"\n",
    "]\n",
    "# filtered.columns"
   ]
  },
  {
   "cell_type": "code",
   "execution_count": null,
   "id": "french-yellow",
   "metadata": {},
   "outputs": [],
   "source": [
    "filtered[[\"radius\", \"name\"]]"
   ]
  }
 ],
 "metadata": {
  "kernelspec": {
   "display_name": "Python 3",
   "language": "python",
   "name": "python3"
  },
  "language_info": {
   "codemirror_mode": {
    "name": "ipython",
    "version": 3
   },
   "file_extension": ".py",
   "mimetype": "text/x-python",
   "name": "python",
   "nbconvert_exporter": "python",
   "pygments_lexer": "ipython3",
   "version": "3.8.6"
  }
 },
 "nbformat": 4,
 "nbformat_minor": 5
}
